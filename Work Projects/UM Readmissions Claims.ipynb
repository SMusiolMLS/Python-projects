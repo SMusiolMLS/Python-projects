{
 "cells": [
  {
   "cell_type": "code",
   "execution_count": 25,
   "metadata": {},
   "outputs": [],
   "source": [
    "import datetime\n",
    "import pandas as pd\n",
    "import pyodbc\n",
    "from IPython.core.display import HTML\n",
    "#from IPython.lib.display import FileLink"
   ]
  },
  {
   "cell_type": "code",
   "execution_count": 2,
   "metadata": {},
   "outputs": [],
   "source": [
    "#!HIDE_INPUT\n",
    "# open the connection to the database\n",
    "cnn_str = \"Driver={ODBC Driver 13 for SQL Server};Server=insert server name;Database=insert db name;Uid=insert user name;Pwd=insert password\"\n",
    "conn = pyodbc.connect(cnn_str)"
   ]
  },
  {
   "cell_type": "code",
   "execution_count": 3,
   "metadata": {},
   "outputs": [],
   "source": [
    "# need to get input from user for SQL query\n",
    "# 1. Site # for each member\n",
    "# 2. Each member ID\n",
    "# 3. Start date for each member ID\n",
    "# 4. End date for each member ID"
   ]
  },
  {
   "cell_type": "code",
   "execution_count": 9,
   "metadata": {},
   "outputs": [],
   "source": [
    "und = '197' #!PROMPT['Enter the underwriter for each patient (XXX), separated by a comma:']['197']!\n",
    "# test case below\n",
    "#und = '197, 488'\n",
    "\n",
    "member_last = '' #!PROMPT['Enter each member's last name separated by a comma:']['']!\n",
    ,
    "\n",
    "member_first = '' #!PROMPT['Enter each member's first name separated by a comma:']['']!\n",
    ,
    "\n",
    "dob = '' #!PROMPT['Enter each member's DOB (YYYY-MM-DD) separated by a comma:']['']!\n",
    ,
    "\n",
    "start_date = '' #!PROMPT['Enter the start date for each member (YYYY-MM-DD) separated by a comma:']['']!\n",
    ,
    "\n",
    "end_date = '' #!PROMPT['Enter the end date for each member (YYYY-MM-DD) separated by a comma:']['']!\n",
    
   ]
  },
  {
   "cell_type": "code",
   "execution_count": 10,
   "metadata": {},
   "outputs": [],
   "source": [
    "# split each input into separate pieces of a list if we are looking for multiple members and remove any extra whitespace\n",
    "undwtr = [x.strip() for x in und.split(',')]\n",
    "mem_last = [x.strip().upper() for x in member_last.split(',')]\n",
    "mem_first = [x.strip().upper() for x in member_first.split(',')]\n",
    "dob = [x.strip() for x in dob.split(',')]\n",
    "start = [x.strip() for x in start_date.split(',')]\n",
    "end = [x.strip() for x in end_date.split(',')]\n",
    "\n",
    "# gather the split lists of inputs into a master list (list of lists)\n",
    "query_base = [undwtr, mem_last, mem_first, dob, start, end]\n",
    "where_part = []\n",
    "# make sure all lists are the same length, if not have the user check/re-enter their requests\n",
    "if all(len(i) == len(query_base[0]) for i in query_base) == True:\n",
    "    # split each list of strings into its respective query parts\n",
    "    for i in range(len(undwtr)):\n",
    "        query_subpart = f\"\"\"(TC.UNDWTR = '{undwtr[i]}'\n",
    "\tAND TC.MEM_FIRST = '{mem_first[i]}'\n",
    "\tAND TC.MEM_LAST = '{mem_last[i]}'\n",
    "\tAND TC.DOB = '{dob[i]}'\n",
    "\tAND TC.INCUR_DATE BETWEEN '{start[i]}' AND '{end[i]}')\"\"\"\n",
    "        where_part.append(query_subpart)\n",
    "else:\n",
    "    raise ValueError(\"There appears to be a missing item. Please check to make sure you have an equal number of entries for each block.\")"
   ]
  },
  {
   "cell_type": "code",
   "execution_count": 11,
   "metadata": {},
   "outputs": [],
   "source": [
    "# build the string for the WHERE clause in the SQL query\n",
    "where_clause = ''\n",
    "for i in range(len(where_part)):\n",
    "    if i < (len(where_part)-1):\n",
    "        where_clause = where_clause + where_part[i] + ' OR '\n",
    "    elif i == (len(where_part)-1):\n",
    "        where_clause = where_clause + where_part[i]"
   ]
  },
  {
   "cell_type": "code",
   "execution_count": 12,
   "metadata": {},
   "outputs": [],
   "source": [
    "sql_start = \"\"\"insert SQL clause",
    "WHERE \"\"\"\n",
    "sql_end = \"\"\" ORDER BY MEM_LAST, INCUR_DATE\"\"\"\n",
    "sql = sql_start + where_clause + sql_end\n",
    "#print(sql)"
   ]
  },
  {
   "cell_type": "code",
   "execution_count": 28,
   "metadata": {},
   "outputs": [
    {
     "name": "stdout",
     "output_type": "stream",
     "text": [
      "insert file location\n"
     ]
    }
   ],
   "source": [
    "# output would be to dataframe and then to Excel spreadsheet\n",
    "data_set = pd.read_sql(sql, conn)\n",
    "date = datetime.datetime.now().strftime('%Y%m%d %H%M%S')\n",
    "#print(date)\n",
    "file_name = r'insert file location' + date + '.xlsx'\n",
    "data_set.to_excel(file_name, index=False, engine=None)\n",
    "#print(date, file_name)"
   ]
  },
  {
   "cell_type": "code",
   "execution_count": 36,
   "metadata": {},
   "outputs": [
    {
     "data": {
      "text/html": [
       "<p style='color: black'>Your report can be found here: <b>\file location</b></p> \n",
       "<p>Please copy and paste into your file browser and <b><i>review the report contents.</i></b></p>"
      ],
      "text/plain": [
       "<IPython.core.display.HTML object>"
      ]
     },
     "metadata": {},
     "output_type": "display_data"
    }
   ],
   "source": [
    "display(HTML(f\"\"\"<p style='color: black'>Your report can be found here: <b>{file_name}</b></p> \n",
    "<p>Please copy and paste into your file browser and <b><i>review the report contents.</i></b></p>\"\"\"))"
   ]
  },
  {
   "cell_type": "code",
   "execution_count": null,
   "metadata": {},
   "outputs": [],
   "source": []
  }
 ],
 "metadata": {
  "kernelspec": {
   "display_name": "Python 3",
   "language": "python",
   "name": "python3"
  },
  "language_info": {
   "codemirror_mode": {
    "name": "ipython",
    "version": 3
   },
   "file_extension": ".py",
   "mimetype": "text/x-python",
   "name": "python",
   "nbconvert_exporter": "python",
   "pygments_lexer": "ipython3",
   "version": "3.6.6"
  }
 },
 "nbformat": 4,
 "nbformat_minor": 2
}
