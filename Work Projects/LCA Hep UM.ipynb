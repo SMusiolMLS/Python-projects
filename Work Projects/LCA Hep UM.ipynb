{
 "cells": [
  {
   "cell_type": "code",
   "execution_count": null,
   "metadata": {},
   "outputs": [],
   "source": [
    "import pandas as pd\n",
    "from IPython.display import display, HTML\n",
    "import numpy as np"
   ]
  },
  {
   "cell_type": "code",
   "execution_count": null,
   "metadata": {},
   "outputs": [],
   "source": [
    "hep_um = pd.read_excel(r\"INSERT FILE NAME HERE")"
   ]
  },
  {
   "cell_type": "code",
   "execution_count": null,
   "metadata": {},
   "outputs": [],
   "source": [
    "hep_um.head()"
   ]
  },
  {
   "cell_type": "code",
   "execution_count": null,
   "metadata": {},
   "outputs": [],
   "source": [
    "hep_um['TestRequestDate'] = pd.to_datetime(hep_um['TestRequestDate'], infer_datetime_format=True)\n",
    "type(hep_um.iloc[0, 2])"
   ]
  },
  {
   "cell_type": "code",
   "execution_count": null,
   "metadata": {},
   "outputs": [],
   "source": [
    "# clean up the values we're filtering on for negative and positive\n",
    "rx = ['Reagente', ' Reagente', 'Reagente ', 'REAGENTE']\n",
    "neg = ['Nao Reagente', '<0.100', 'Não Reagente', 'Nao reagente', 'NAO REAGENTE', 'nao reagente', 'Nao Reagente ', 'Nao reagente ', 'Nao regente']\n",
    "inc = ['INCONCLUSIVO', 'Indeterminado', 'Inconclusivo', 'Inconclusivo ']\n",
    "\n",
    "hep_um['TestResultValue'].replace(rx, 'Reagente', inplace=True)\n",
    "hep_um['TestResultValue'].replace(neg, 'Nao Reagente', inplace=True)\n",
    "hep_um['TestResultValue'].replace(inc, 'Inconclusivo', inplace=True)"
   ]
  },
  {
   "cell_type": "code",
   "execution_count": null,
   "metadata": {},
   "outputs": [],
   "source": [
    "# create data frames for each of the scenarios we're looking for\n",
    "# data frame for HBcAb tests\n",
    "hbc = hbs = hep_um[hep_um[\"TestCode\"] == \"HBCTOTAL\"]\n",
    "\n",
    "# data frame for HBcAb that tests positive\n",
    "hbc_rx = hep_um[(hep_um['TestResultValue'] == 'Reagente') & (hep_um[\"TestCode\"] == \"HBCTOTAL\")]\n",
    "\n",
    "# data frame for HBcAb that tests negative\n",
    "hbc_neg = hep_um[(hep_um['TestResultValue'] == 'Nao Reagente') & (hep_um[\"TestCode\"] == \"HBCTOTAL\")]\n",
    "\n",
    "# data frame for all HBsAg performed\n",
    "hbs = hep_um[hep_um[\"TestCode\"] == \"HBSAG\"]\n",
    "\n",
    "# data frame for HBsAg that are positive\n",
    "hbs_pos = hep_um[(hep_um['TestResultValue'] == 'Reagente') & (hep_um[\"TestCode\"] == \"HBSAG\")]\n",
    "\n",
    "# data frame for HBeAg\n",
    "hbe = hep_um[hep_um[\"TestCode\"] == \"AHBE\"]\n",
    "\n",
    "print(len(hbc), len(hbc_rx), len(hbc_neg), len(hbs), len(hbs_pos), len(hbe), len(hep_um))"
   ]
  },
  {
   "cell_type": "code",
   "execution_count": null,
   "metadata": {},
   "outputs": [],
   "source": [
    "print(display(hbs))"
   ]
  },
  {
   "cell_type": "code",
   "execution_count": null,
   "metadata": {},
   "outputs": [],
   "source": [
    "hep_um['TestCode'].value_counts()"
   ]
  },
  {
   "cell_type": "code",
   "execution_count": null,
   "metadata": {},
   "outputs": [],
   "source": [
    "hep_um['TestResultValue'].unique()"
   ]
  },
  {
   "cell_type": "code",
   "execution_count": null,
   "metadata": {},
   "outputs": [],
   "source": [
    "# crop the columns we don't need\n",
    "hbe_hbs = pd.merge(hbe, hbs, on='PatientCode', suffixes=('_hbe', '_hbs'), how='outer')"
   ]
  },
  {
   "cell_type": "code",
   "execution_count": null,
   "metadata": {},
   "outputs": [],
   "source": [
    "print(display(hbe_hbs))"
   ]
  },
  {
   "cell_type": "code",
   "execution_count": null,
   "metadata": {},
   "outputs": [],
   "source": [
    "print(len(hep_um), len(hep_um['PatientCode'].unique()))"
   ]
  },
  {
   "cell_type": "code",
   "execution_count": null,
   "metadata": {},
   "outputs": [],
   "source": [
    "hbc_hbe = pd.merge(hbc, hbe, on='PatientCode', suffixes=['_hbc', '_hbe'], how='outer')"
   ]
  },
  {
   "cell_type": "code",
   "execution_count": null,
   "metadata": {},
   "outputs": [],
   "source": [
    "print(len(hbc), len(hbe), len(hbc_hbe))"
   ]
  },
  {
   "cell_type": "code",
   "execution_count": null,
   "metadata": {},
   "outputs": [],
   "source": [
    "hbc_hbe.head(20)"
   ]
  },
  {
   "cell_type": "code",
   "execution_count": null,
   "metadata": {},
   "outputs": [],
   "source": [
    "hep_wide = pd.merge(hbc_hbe, hbs, on='PatientCode', suffixes=('', '_hbs'), how='outer')"
   ]
  },
  {
   "cell_type": "code",
   "execution_count": null,
   "metadata": {},
   "outputs": [],
   "source": [
    "print(hep_wide.columns)"
   ]
  },
  {
   "cell_type": "code",
   "execution_count": null,
   "metadata": {},
   "outputs": [],
   "source": [
    "hep_col = hep_wide.columns.tolist()\n",
    "hbs_col = hep_col[-16:]\n",
    "hbs_newcol = [item + '_hbs' for item in hbs_col]\n",
    "\n",
    "hep_newcol = hep_col[:-16] + hbs_newcol\n",
    "hep_wide.columns = hep_newcol\n",
    "\n",
    "hep_wide.head(10)"
   ]
  },
  {
   "cell_type": "code",
   "execution_count": null,
   "metadata": {},
   "outputs": [],
   "source": [
    "# add empty column for the first rule where an HBSA should be ordered if HBC is positive\n",
    "hep_wide['HBC Pos HBSA Ord'] = np.nan\n",
    "hep_wide.info()"
   ]
  },
  {
   "cell_type": "code",
   "execution_count": null,
   "metadata": {},
   "outputs": [],
   "source": [
    "# create logic for first rule of HBCTOTAL positive then order HBSA, must be within 30 days\n",
    "for i in range(0, len(hep_wide)):\n",
    "    if hep_wide.iloc[i, 7] == 'HBCTOTAL' and hep_wide.iloc[i, 5] == 'Reagente' and hep_wide.iloc[i, 40] == 'HBSAG' and ((hep_wide.iloc[i, 35]-hep_wide.iloc[i, 2])/np.timedelta64(1, 'D')) <= 30:\n",
    "        hep_wide.iloc[i, 49] = 'Followed: Ordered'\n",
    "    elif hep_wide.iloc[i, 7] == 'HBCTOTAL' and hep_wide.iloc[i, 5] == 'Nao Reagente' and pd.isna(hep_wide.iloc[i, 40]) and pd.isna(hep_wide.iloc[i, 24]):\n",
    "        hep_wide.iloc[i, 49] = 'Followed: Not Ordered'\n",
    "    elif hep_wide.iloc[i, 7] == 'HBCTOTAL' and hep_wide.iloc[i, 5] == 'Reagente' and pd.isna(hep_wide.iloc[i, 40]):\n",
    "        hep_wide.iloc[i, 49] = 'Broken: HBCTOTAL Pos, HBSAG not ordered'\n",
    "    elif hep_wide.iloc[i, 7] == 'HBCTOTAL' and hep_wide.iloc[i, 5] == 'Reagente' and hep_wide.iloc[i, 40] == 'HBSAG' and ((hep_wide.iloc[i, 35]-hep_wide.iloc[i, 2])/np.timedelta64(1, 'D')) > 30:\n",
    "        hep_wide.iloc[i, 49] = 'Broken: HBCTOTAL Pos, HBSAG ordered after 30 days'\n",
    "    elif hep_wide.iloc[i, 7] == 'HBCTOTAL' and hep_wide.iloc[i, 5] == 'Nao Reagente' and hep_wide.iloc[i, 40] == 'HBSAG':\n",
    "        hep_wide.iloc[i, 49] = \"Broken: HBCTOTAL Neg, HBSAG Ordered\"\n",
    "    else:\n",
    "        hep_wide.iloc[i, 49] = np.nan"
   ]
  },
  {
   "cell_type": "code",
   "execution_count": null,
   "metadata": {},
   "outputs": [],
   "source": [
    "pd.options.display.max_columns = None\n",
    "print(display(hep_wide[hep_wide['HBC Pos HBSA Ord'].isin(['Followed', 'Broken'])]))\n",
    "#hep_wide['TestCode_hbs'].unique()"
   ]
  },
  {
   "cell_type": "code",
   "execution_count": null,
   "metadata": {},
   "outputs": [],
   "source": [
    "#hep_wide['HBC Pos HBS Pos HBE Ord'] = np.nan\n",
    "hep_wide.info()"
   ]
  },
  {
   "cell_type": "code",
   "execution_count": null,
   "metadata": {},
   "outputs": [],
   "source": [
    "# create logic for second rule of HBCTOTAL positive AND HBSAG positive then order AHBE, must be within 30 days of HBSAG positive test\n",
    "for i in range(0, len(hep_wide)):\n",
    "    if (hep_wide.iloc[i, 7] == 'HBCTOTAL' \\\n",
    "    and hep_wide.iloc[i, 5] == 'Reagente' \\\n",
    "    and hep_wide.iloc[i, 40] == 'HBSAG' \\\n",
    "    and hep_wide.iloc[i, 38] == 'Reagente' \\\n",
    "    and hep_wide.iloc[i, 24] == 'AHBE' \\\n",
    "    and ((hep_wide.iloc[i, 19]-hep_wide.iloc[i, 35])/np.timedelta64(1, 'D')) <= 30):\n",
    "        hep_wide.iloc[i, 50] = 'Followed: Ordered'\n",
    "    #elif (hep_wide.iloc[i, 7] == 'HBCTOTAL' and hep_wide.iloc[i, 40] == 'HBSAG' and hep_wide.iloc[i, 24] == 'AHBE') \n",
    "    #or hep_wide.iloc[i, 40] == 'HBSAG':\n",
    "    #    hep_wide.iloc[i, 49] = 'Broken'\n",
    "    elif (hep_wide.iloc[i, 7] == 'HBCTOTAL' and hep_wide.iloc[i, 5] == 'Nao Reagente' and pd.isna(hep_wide.iloc[i, 40]) and pd.isna(hep_wide.iloc[i, 24])) \\\n",
    "    or (hep_wide.iloc[i, 7] == 'HBCTOTAL' and hep_wide.iloc[i, 5] == 'Reagente' and hep_wide.iloc[i, 40] == 'HBSAG' and hep_wide.iloc[i, 38] == 'Nao Reagente' and pd.isna(hep_wide.iloc[i, 24])):\n",
    "        hep_wide.iloc[i, 50] = 'Followed: Not Ordered'\n",
    "    elif hep_wide.iloc[i, 7] == 'HBCTOTAL' and hep_wide.iloc[i, 5] == 'Reagente' and pd.isna(hep_wide.iloc[i, 40]) and hep_wide.iloc[i, 24] =='AHBE':\n",
    "        hep_wide.iloc[i, 50] = 'Broken: HBCTOTAL Pos, AHBE ordered without HBSAG'\n",
    "    elif hep_wide.iloc[i, 7] == 'HBCTOTAL' and (hep_wide.iloc[i, 5] == 'Nao Reagente' or hep_wide.iloc[i, 5] == 'Inconclusivo') and hep_wide.iloc[i, 24] =='AHBE':\n",
    "        hep_wide.iloc[i, 50] = 'Broken: HBCTOTAL Neg/Indeterminate, AHBE ordered'\n",
    "    elif pd.isna(hep_wide.iloc[i, 7]) and pd.isna(hep_wide.iloc[i, 40]) and hep_wide.iloc[i, 24] == 'AHBE':\n",
    "        hep_wide.iloc[i, 50] = 'Broken: AHBE ordered standalone'\n",
    "    else:\n",
    "        hep_wide.iloc[i, 49] = np.nan"
   ]
  },
  {
   "cell_type": "code",
   "execution_count": null,
   "metadata": {},
   "outputs": [],
   "source": [
    "print(display(hep_wide[(hep_wide['TestCode_hbc']=='HBCTOTAL') & (hep_wide['TestCode_hbs']=='HBSAG') & (hep_wide['TestCode_hbe']=='AHBE')]))"
   ]
  },
  {
   "cell_type": "code",
   "execution_count": null,
   "metadata": {},
   "outputs": [],
   "source": [
    "hep_wide.to_csv('LCA UM Rules flat file.csv')"
   ]
  },
  {
   "cell_type": "code",
   "execution_count": null,
   "metadata": {},
   "outputs": [],
   "source": []
  }
 ],
 "metadata": {
  "kernelspec": {
   "display_name": "Python 3",
   "language": "python",
   "name": "python3"
  },
  "language_info": {
   "codemirror_mode": {
    "name": "ipython",
    "version": 3
   },
   "file_extension": ".py",
   "mimetype": "text/x-python",
   "name": "python",
   "nbconvert_exporter": "python",
   "pygments_lexer": "ipython3",
   "version": "3.7.4"
  }
 },
 "nbformat": 4,
 "nbformat_minor": 4
}
